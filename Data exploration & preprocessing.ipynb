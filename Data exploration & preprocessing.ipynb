{
 "cells": [
  {
   "cell_type": "markdown",
   "id": "18fca1f3",
   "metadata": {},
   "source": [
    "*We use the dataset  'Netflix titles'*\n",
    "\n",
    "[Dataset available at this link](https://www.kaggle.com/datasets/shivamb/netflix-shows) \n",
    "\n",
    "\n",
    "**About Dataset**\n",
    "\n",
    "This dataset contains Unlabelled text data of around 9000 Netflix Shows and Movies along with Full details like Cast, Release Year, Rating, Description, etc.\n",
    "\n",
    "Columns:\n",
    "* **show_id:** Unique ID for every Movie / Tv Show\n",
    "* **type:** Identifier a Movie or TV Show\n",
    "* **title:** Title of the Movie / Tv Show \n",
    "* **director:** Director of the Movie\n",
    "* **cast:** Actors involved in the movie / show \n",
    "* **country:** Country where the movie / show was produced \n",
    "* **date_added:** Date it was added on Netflix\n",
    "* **release_year:** Actual Release year of the move / show\n",
    "* **rating:** TV Rating of the movie / show\n",
    "* **duration:** Total Duration - in minutes or number of seasons\n"
   ]
  },
  {
   "cell_type": "markdown",
   "id": "ef497287",
   "metadata": {},
   "source": [
    "*Import libraries*"
   ]
  },
  {
   "cell_type": "code",
   "execution_count": 90,
   "id": "b4d4ed8e",
   "metadata": {},
   "outputs": [],
   "source": [
    "import pandas as pd\n",
    "import numpy as np\n",
    "import matplotlib.pyplot as plt\n",
    "import seaborn as sns\n",
    "from collections import Counter "
   ]
  },
  {
   "cell_type": "markdown",
   "id": "35d9fc1a",
   "metadata": {},
   "source": [
    "*Load dataset*"
   ]
  },
  {
   "cell_type": "code",
   "execution_count": 2,
   "id": "6097c651",
   "metadata": {},
   "outputs": [],
   "source": [
    "df = pd.read_csv('netflix_titles.csv')"
   ]
  },
  {
   "cell_type": "code",
   "execution_count": 3,
   "id": "38694927",
   "metadata": {},
   "outputs": [
    {
     "data": {
      "text/html": [
       "<div>\n",
       "<style scoped>\n",
       "    .dataframe tbody tr th:only-of-type {\n",
       "        vertical-align: middle;\n",
       "    }\n",
       "\n",
       "    .dataframe tbody tr th {\n",
       "        vertical-align: top;\n",
       "    }\n",
       "\n",
       "    .dataframe thead th {\n",
       "        text-align: right;\n",
       "    }\n",
       "</style>\n",
       "<table border=\"1\" class=\"dataframe\">\n",
       "  <thead>\n",
       "    <tr style=\"text-align: right;\">\n",
       "      <th></th>\n",
       "      <th>show_id</th>\n",
       "      <th>type</th>\n",
       "      <th>title</th>\n",
       "      <th>director</th>\n",
       "      <th>cast</th>\n",
       "      <th>country</th>\n",
       "      <th>date_added</th>\n",
       "      <th>release_year</th>\n",
       "      <th>rating</th>\n",
       "      <th>duration</th>\n",
       "      <th>listed_in</th>\n",
       "      <th>description</th>\n",
       "    </tr>\n",
       "  </thead>\n",
       "  <tbody>\n",
       "    <tr>\n",
       "      <th>0</th>\n",
       "      <td>s1</td>\n",
       "      <td>Movie</td>\n",
       "      <td>Dick Johnson Is Dead</td>\n",
       "      <td>Kirsten Johnson</td>\n",
       "      <td>NaN</td>\n",
       "      <td>United States</td>\n",
       "      <td>September 25, 2021</td>\n",
       "      <td>2020</td>\n",
       "      <td>PG-13</td>\n",
       "      <td>90 min</td>\n",
       "      <td>Documentaries</td>\n",
       "      <td>As her father nears the end of his life, filmm...</td>\n",
       "    </tr>\n",
       "    <tr>\n",
       "      <th>1</th>\n",
       "      <td>s2</td>\n",
       "      <td>TV Show</td>\n",
       "      <td>Blood &amp; Water</td>\n",
       "      <td>NaN</td>\n",
       "      <td>Ama Qamata, Khosi Ngema, Gail Mabalane, Thaban...</td>\n",
       "      <td>South Africa</td>\n",
       "      <td>September 24, 2021</td>\n",
       "      <td>2021</td>\n",
       "      <td>TV-MA</td>\n",
       "      <td>2 Seasons</td>\n",
       "      <td>International TV Shows, TV Dramas, TV Mysteries</td>\n",
       "      <td>After crossing paths at a party, a Cape Town t...</td>\n",
       "    </tr>\n",
       "    <tr>\n",
       "      <th>2</th>\n",
       "      <td>s3</td>\n",
       "      <td>TV Show</td>\n",
       "      <td>Ganglands</td>\n",
       "      <td>Julien Leclercq</td>\n",
       "      <td>Sami Bouajila, Tracy Gotoas, Samuel Jouy, Nabi...</td>\n",
       "      <td>NaN</td>\n",
       "      <td>September 24, 2021</td>\n",
       "      <td>2021</td>\n",
       "      <td>TV-MA</td>\n",
       "      <td>1 Season</td>\n",
       "      <td>Crime TV Shows, International TV Shows, TV Act...</td>\n",
       "      <td>To protect his family from a powerful drug lor...</td>\n",
       "    </tr>\n",
       "    <tr>\n",
       "      <th>3</th>\n",
       "      <td>s4</td>\n",
       "      <td>TV Show</td>\n",
       "      <td>Jailbirds New Orleans</td>\n",
       "      <td>NaN</td>\n",
       "      <td>NaN</td>\n",
       "      <td>NaN</td>\n",
       "      <td>September 24, 2021</td>\n",
       "      <td>2021</td>\n",
       "      <td>TV-MA</td>\n",
       "      <td>1 Season</td>\n",
       "      <td>Docuseries, Reality TV</td>\n",
       "      <td>Feuds, flirtations and toilet talk go down amo...</td>\n",
       "    </tr>\n",
       "    <tr>\n",
       "      <th>4</th>\n",
       "      <td>s5</td>\n",
       "      <td>TV Show</td>\n",
       "      <td>Kota Factory</td>\n",
       "      <td>NaN</td>\n",
       "      <td>Mayur More, Jitendra Kumar, Ranjan Raj, Alam K...</td>\n",
       "      <td>India</td>\n",
       "      <td>September 24, 2021</td>\n",
       "      <td>2021</td>\n",
       "      <td>TV-MA</td>\n",
       "      <td>2 Seasons</td>\n",
       "      <td>International TV Shows, Romantic TV Shows, TV ...</td>\n",
       "      <td>In a city of coaching centers known to train I...</td>\n",
       "    </tr>\n",
       "  </tbody>\n",
       "</table>\n",
       "</div>"
      ],
      "text/plain": [
       "  show_id     type                  title         director  \\\n",
       "0      s1    Movie   Dick Johnson Is Dead  Kirsten Johnson   \n",
       "1      s2  TV Show          Blood & Water              NaN   \n",
       "2      s3  TV Show              Ganglands  Julien Leclercq   \n",
       "3      s4  TV Show  Jailbirds New Orleans              NaN   \n",
       "4      s5  TV Show           Kota Factory              NaN   \n",
       "\n",
       "                                                cast        country  \\\n",
       "0                                                NaN  United States   \n",
       "1  Ama Qamata, Khosi Ngema, Gail Mabalane, Thaban...   South Africa   \n",
       "2  Sami Bouajila, Tracy Gotoas, Samuel Jouy, Nabi...            NaN   \n",
       "3                                                NaN            NaN   \n",
       "4  Mayur More, Jitendra Kumar, Ranjan Raj, Alam K...          India   \n",
       "\n",
       "           date_added  release_year rating   duration  \\\n",
       "0  September 25, 2021          2020  PG-13     90 min   \n",
       "1  September 24, 2021          2021  TV-MA  2 Seasons   \n",
       "2  September 24, 2021          2021  TV-MA   1 Season   \n",
       "3  September 24, 2021          2021  TV-MA   1 Season   \n",
       "4  September 24, 2021          2021  TV-MA  2 Seasons   \n",
       "\n",
       "                                           listed_in  \\\n",
       "0                                      Documentaries   \n",
       "1    International TV Shows, TV Dramas, TV Mysteries   \n",
       "2  Crime TV Shows, International TV Shows, TV Act...   \n",
       "3                             Docuseries, Reality TV   \n",
       "4  International TV Shows, Romantic TV Shows, TV ...   \n",
       "\n",
       "                                         description  \n",
       "0  As her father nears the end of his life, filmm...  \n",
       "1  After crossing paths at a party, a Cape Town t...  \n",
       "2  To protect his family from a powerful drug lor...  \n",
       "3  Feuds, flirtations and toilet talk go down amo...  \n",
       "4  In a city of coaching centers known to train I...  "
      ]
     },
     "execution_count": 3,
     "metadata": {},
     "output_type": "execute_result"
    }
   ],
   "source": [
    "# show first five rows of dataset\n",
    "df.head()"
   ]
  },
  {
   "cell_type": "code",
   "execution_count": 4,
   "id": "36afea6e",
   "metadata": {},
   "outputs": [
    {
     "name": "stdout",
     "output_type": "stream",
     "text": [
      "Shape: (8807, 12) \n"
     ]
    }
   ],
   "source": [
    "print(f'Shape: {df.shape} ')"
   ]
  },
  {
   "cell_type": "markdown",
   "id": "3cd18269",
   "metadata": {},
   "source": [
    "*Search columns with missing values*"
   ]
  },
  {
   "cell_type": "code",
   "execution_count": 5,
   "id": "3b28dce5",
   "metadata": {},
   "outputs": [
    {
     "data": {
      "text/html": [
       "<div>\n",
       "<style scoped>\n",
       "    .dataframe tbody tr th:only-of-type {\n",
       "        vertical-align: middle;\n",
       "    }\n",
       "\n",
       "    .dataframe tbody tr th {\n",
       "        vertical-align: top;\n",
       "    }\n",
       "\n",
       "    .dataframe thead th {\n",
       "        text-align: right;\n",
       "    }\n",
       "</style>\n",
       "<table border=\"1\" class=\"dataframe\">\n",
       "  <thead>\n",
       "    <tr style=\"text-align: right;\">\n",
       "      <th></th>\n",
       "      <th>show_id</th>\n",
       "      <th>type</th>\n",
       "      <th>title</th>\n",
       "      <th>director</th>\n",
       "      <th>cast</th>\n",
       "      <th>country</th>\n",
       "      <th>date_added</th>\n",
       "      <th>release_year</th>\n",
       "      <th>rating</th>\n",
       "      <th>duration</th>\n",
       "      <th>listed_in</th>\n",
       "      <th>description</th>\n",
       "    </tr>\n",
       "  </thead>\n",
       "  <tbody>\n",
       "    <tr>\n",
       "      <th>0</th>\n",
       "      <td>False</td>\n",
       "      <td>False</td>\n",
       "      <td>False</td>\n",
       "      <td>False</td>\n",
       "      <td>True</td>\n",
       "      <td>False</td>\n",
       "      <td>False</td>\n",
       "      <td>False</td>\n",
       "      <td>False</td>\n",
       "      <td>False</td>\n",
       "      <td>False</td>\n",
       "      <td>False</td>\n",
       "    </tr>\n",
       "    <tr>\n",
       "      <th>1</th>\n",
       "      <td>False</td>\n",
       "      <td>False</td>\n",
       "      <td>False</td>\n",
       "      <td>True</td>\n",
       "      <td>False</td>\n",
       "      <td>False</td>\n",
       "      <td>False</td>\n",
       "      <td>False</td>\n",
       "      <td>False</td>\n",
       "      <td>False</td>\n",
       "      <td>False</td>\n",
       "      <td>False</td>\n",
       "    </tr>\n",
       "    <tr>\n",
       "      <th>2</th>\n",
       "      <td>False</td>\n",
       "      <td>False</td>\n",
       "      <td>False</td>\n",
       "      <td>False</td>\n",
       "      <td>False</td>\n",
       "      <td>True</td>\n",
       "      <td>False</td>\n",
       "      <td>False</td>\n",
       "      <td>False</td>\n",
       "      <td>False</td>\n",
       "      <td>False</td>\n",
       "      <td>False</td>\n",
       "    </tr>\n",
       "    <tr>\n",
       "      <th>3</th>\n",
       "      <td>False</td>\n",
       "      <td>False</td>\n",
       "      <td>False</td>\n",
       "      <td>True</td>\n",
       "      <td>True</td>\n",
       "      <td>True</td>\n",
       "      <td>False</td>\n",
       "      <td>False</td>\n",
       "      <td>False</td>\n",
       "      <td>False</td>\n",
       "      <td>False</td>\n",
       "      <td>False</td>\n",
       "    </tr>\n",
       "    <tr>\n",
       "      <th>4</th>\n",
       "      <td>False</td>\n",
       "      <td>False</td>\n",
       "      <td>False</td>\n",
       "      <td>True</td>\n",
       "      <td>False</td>\n",
       "      <td>False</td>\n",
       "      <td>False</td>\n",
       "      <td>False</td>\n",
       "      <td>False</td>\n",
       "      <td>False</td>\n",
       "      <td>False</td>\n",
       "      <td>False</td>\n",
       "    </tr>\n",
       "    <tr>\n",
       "      <th>...</th>\n",
       "      <td>...</td>\n",
       "      <td>...</td>\n",
       "      <td>...</td>\n",
       "      <td>...</td>\n",
       "      <td>...</td>\n",
       "      <td>...</td>\n",
       "      <td>...</td>\n",
       "      <td>...</td>\n",
       "      <td>...</td>\n",
       "      <td>...</td>\n",
       "      <td>...</td>\n",
       "      <td>...</td>\n",
       "    </tr>\n",
       "    <tr>\n",
       "      <th>8802</th>\n",
       "      <td>False</td>\n",
       "      <td>False</td>\n",
       "      <td>False</td>\n",
       "      <td>False</td>\n",
       "      <td>False</td>\n",
       "      <td>False</td>\n",
       "      <td>False</td>\n",
       "      <td>False</td>\n",
       "      <td>False</td>\n",
       "      <td>False</td>\n",
       "      <td>False</td>\n",
       "      <td>False</td>\n",
       "    </tr>\n",
       "    <tr>\n",
       "      <th>8803</th>\n",
       "      <td>False</td>\n",
       "      <td>False</td>\n",
       "      <td>False</td>\n",
       "      <td>True</td>\n",
       "      <td>True</td>\n",
       "      <td>True</td>\n",
       "      <td>False</td>\n",
       "      <td>False</td>\n",
       "      <td>False</td>\n",
       "      <td>False</td>\n",
       "      <td>False</td>\n",
       "      <td>False</td>\n",
       "    </tr>\n",
       "    <tr>\n",
       "      <th>8804</th>\n",
       "      <td>False</td>\n",
       "      <td>False</td>\n",
       "      <td>False</td>\n",
       "      <td>False</td>\n",
       "      <td>False</td>\n",
       "      <td>False</td>\n",
       "      <td>False</td>\n",
       "      <td>False</td>\n",
       "      <td>False</td>\n",
       "      <td>False</td>\n",
       "      <td>False</td>\n",
       "      <td>False</td>\n",
       "    </tr>\n",
       "    <tr>\n",
       "      <th>8805</th>\n",
       "      <td>False</td>\n",
       "      <td>False</td>\n",
       "      <td>False</td>\n",
       "      <td>False</td>\n",
       "      <td>False</td>\n",
       "      <td>False</td>\n",
       "      <td>False</td>\n",
       "      <td>False</td>\n",
       "      <td>False</td>\n",
       "      <td>False</td>\n",
       "      <td>False</td>\n",
       "      <td>False</td>\n",
       "    </tr>\n",
       "    <tr>\n",
       "      <th>8806</th>\n",
       "      <td>False</td>\n",
       "      <td>False</td>\n",
       "      <td>False</td>\n",
       "      <td>False</td>\n",
       "      <td>False</td>\n",
       "      <td>False</td>\n",
       "      <td>False</td>\n",
       "      <td>False</td>\n",
       "      <td>False</td>\n",
       "      <td>False</td>\n",
       "      <td>False</td>\n",
       "      <td>False</td>\n",
       "    </tr>\n",
       "  </tbody>\n",
       "</table>\n",
       "<p>8807 rows × 12 columns</p>\n",
       "</div>"
      ],
      "text/plain": [
       "      show_id   type  title  director   cast  country  date_added  \\\n",
       "0       False  False  False     False   True    False       False   \n",
       "1       False  False  False      True  False    False       False   \n",
       "2       False  False  False     False  False     True       False   \n",
       "3       False  False  False      True   True     True       False   \n",
       "4       False  False  False      True  False    False       False   \n",
       "...       ...    ...    ...       ...    ...      ...         ...   \n",
       "8802    False  False  False     False  False    False       False   \n",
       "8803    False  False  False      True   True     True       False   \n",
       "8804    False  False  False     False  False    False       False   \n",
       "8805    False  False  False     False  False    False       False   \n",
       "8806    False  False  False     False  False    False       False   \n",
       "\n",
       "      release_year  rating  duration  listed_in  description  \n",
       "0            False   False     False      False        False  \n",
       "1            False   False     False      False        False  \n",
       "2            False   False     False      False        False  \n",
       "3            False   False     False      False        False  \n",
       "4            False   False     False      False        False  \n",
       "...            ...     ...       ...        ...          ...  \n",
       "8802         False   False     False      False        False  \n",
       "8803         False   False     False      False        False  \n",
       "8804         False   False     False      False        False  \n",
       "8805         False   False     False      False        False  \n",
       "8806         False   False     False      False        False  \n",
       "\n",
       "[8807 rows x 12 columns]"
      ]
     },
     "execution_count": 5,
     "metadata": {},
     "output_type": "execute_result"
    }
   ],
   "source": [
    "df.isnull()"
   ]
  },
  {
   "cell_type": "markdown",
   "id": "a802ddf1",
   "metadata": {},
   "source": [
    "*If at least one element of column is null the result is True, False otherwise*"
   ]
  },
  {
   "cell_type": "code",
   "execution_count": 6,
   "id": "7d9fcab0",
   "metadata": {},
   "outputs": [
    {
     "data": {
      "text/plain": [
       "show_id         False\n",
       "type            False\n",
       "title           False\n",
       "director         True\n",
       "cast             True\n",
       "country          True\n",
       "date_added       True\n",
       "release_year    False\n",
       "rating           True\n",
       "duration         True\n",
       "listed_in       False\n",
       "description     False\n",
       "dtype: bool"
      ]
     },
     "execution_count": 6,
     "metadata": {},
     "output_type": "execute_result"
    }
   ],
   "source": [
    "df.isnull().any()"
   ]
  },
  {
   "cell_type": "markdown",
   "id": "d020761b",
   "metadata": {},
   "source": [
    "*Show the number of missing values for each column*"
   ]
  },
  {
   "cell_type": "code",
   "execution_count": 7,
   "id": "109b9292",
   "metadata": {},
   "outputs": [
    {
     "data": {
      "text/plain": [
       "show_id            0\n",
       "type               0\n",
       "title              0\n",
       "director        2634\n",
       "cast             825\n",
       "country          831\n",
       "date_added        10\n",
       "release_year       0\n",
       "rating             4\n",
       "duration           3\n",
       "listed_in          0\n",
       "description        0\n",
       "dtype: int64"
      ]
     },
     "execution_count": 7,
     "metadata": {},
     "output_type": "execute_result"
    }
   ],
   "source": [
    "df.isnull().sum()"
   ]
  },
  {
   "cell_type": "markdown",
   "id": "7bb61e1b",
   "metadata": {},
   "source": [
    "*Shows total number of missing values for the entire dataset*"
   ]
  },
  {
   "cell_type": "code",
   "execution_count": 8,
   "id": "78041e74",
   "metadata": {},
   "outputs": [
    {
     "data": {
      "text/plain": [
       "4307"
      ]
     },
     "execution_count": 8,
     "metadata": {},
     "output_type": "execute_result"
    }
   ],
   "source": [
    "df.isnull().sum().sum()"
   ]
  },
  {
   "cell_type": "markdown",
   "id": "151017be",
   "metadata": {},
   "source": [
    "*Now we replace missing values with a default value*"
   ]
  },
  {
   "cell_type": "code",
   "execution_count": 9,
   "id": "a2083653",
   "metadata": {},
   "outputs": [
    {
     "data": {
      "text/plain": [
       "0       Kirsten Johnson\n",
       "1                   NaN\n",
       "2       Julien Leclercq\n",
       "3                   NaN\n",
       "4                   NaN\n",
       "             ...       \n",
       "8802      David Fincher\n",
       "8803                NaN\n",
       "8804    Ruben Fleischer\n",
       "8805       Peter Hewitt\n",
       "8806        Mozez Singh\n",
       "Name: director, Length: 8807, dtype: object"
      ]
     },
     "execution_count": 9,
     "metadata": {},
     "output_type": "execute_result"
    }
   ],
   "source": [
    "df.director"
   ]
  },
  {
   "cell_type": "code",
   "execution_count": 10,
   "id": "75078224",
   "metadata": {},
   "outputs": [
    {
     "data": {
      "text/plain": [
       "0       Kirsten Johnson\n",
       "1           No Director\n",
       "2       Julien Leclercq\n",
       "3           No Director\n",
       "4           No Director\n",
       "             ...       \n",
       "8802      David Fincher\n",
       "8803        No Director\n",
       "8804    Ruben Fleischer\n",
       "8805       Peter Hewitt\n",
       "8806        Mozez Singh\n",
       "Name: director, Length: 8807, dtype: object"
      ]
     },
     "execution_count": 10,
     "metadata": {},
     "output_type": "execute_result"
    }
   ],
   "source": [
    "df.director.fillna('No Director', inplace=True)\n",
    "df.director"
   ]
  },
  {
   "cell_type": "code",
   "execution_count": 11,
   "id": "36649f4a",
   "metadata": {},
   "outputs": [
    {
     "data": {
      "text/plain": [
       "0                                                     NaN\n",
       "1       Ama Qamata, Khosi Ngema, Gail Mabalane, Thaban...\n",
       "2       Sami Bouajila, Tracy Gotoas, Samuel Jouy, Nabi...\n",
       "3                                                     NaN\n",
       "4       Mayur More, Jitendra Kumar, Ranjan Raj, Alam K...\n",
       "                              ...                        \n",
       "8802    Mark Ruffalo, Jake Gyllenhaal, Robert Downey J...\n",
       "8803                                                  NaN\n",
       "8804    Jesse Eisenberg, Woody Harrelson, Emma Stone, ...\n",
       "8805    Tim Allen, Courteney Cox, Chevy Chase, Kate Ma...\n",
       "8806    Vicky Kaushal, Sarah-Jane Dias, Raaghav Chanan...\n",
       "Name: cast, Length: 8807, dtype: object"
      ]
     },
     "execution_count": 11,
     "metadata": {},
     "output_type": "execute_result"
    }
   ],
   "source": [
    "df.cast"
   ]
  },
  {
   "cell_type": "code",
   "execution_count": 12,
   "id": "716a6cee",
   "metadata": {},
   "outputs": [
    {
     "data": {
      "text/plain": [
       "0                                                 No Cast\n",
       "1       Ama Qamata, Khosi Ngema, Gail Mabalane, Thaban...\n",
       "2       Sami Bouajila, Tracy Gotoas, Samuel Jouy, Nabi...\n",
       "3                                                 No Cast\n",
       "4       Mayur More, Jitendra Kumar, Ranjan Raj, Alam K...\n",
       "                              ...                        \n",
       "8802    Mark Ruffalo, Jake Gyllenhaal, Robert Downey J...\n",
       "8803                                              No Cast\n",
       "8804    Jesse Eisenberg, Woody Harrelson, Emma Stone, ...\n",
       "8805    Tim Allen, Courteney Cox, Chevy Chase, Kate Ma...\n",
       "8806    Vicky Kaushal, Sarah-Jane Dias, Raaghav Chanan...\n",
       "Name: cast, Length: 8807, dtype: object"
      ]
     },
     "execution_count": 12,
     "metadata": {},
     "output_type": "execute_result"
    }
   ],
   "source": [
    "df.cast.fillna('No Cast', inplace=True)\n",
    "df.cast"
   ]
  },
  {
   "cell_type": "code",
   "execution_count": 13,
   "id": "b0179d7c",
   "metadata": {},
   "outputs": [
    {
     "data": {
      "text/plain": [
       "0       United States\n",
       "1        South Africa\n",
       "2                 NaN\n",
       "3                 NaN\n",
       "4               India\n",
       "            ...      \n",
       "8802    United States\n",
       "8803              NaN\n",
       "8804    United States\n",
       "8805    United States\n",
       "8806            India\n",
       "Name: country, Length: 8807, dtype: object"
      ]
     },
     "execution_count": 13,
     "metadata": {},
     "output_type": "execute_result"
    }
   ],
   "source": [
    "df.country"
   ]
  },
  {
   "cell_type": "code",
   "execution_count": 14,
   "id": "fb411edb",
   "metadata": {},
   "outputs": [
    {
     "data": {
      "text/plain": [
       "0       United States\n",
       "1        South Africa\n",
       "2          No Country\n",
       "3          No Country\n",
       "4               India\n",
       "            ...      \n",
       "8802    United States\n",
       "8803       No Country\n",
       "8804    United States\n",
       "8805    United States\n",
       "8806            India\n",
       "Name: country, Length: 8807, dtype: object"
      ]
     },
     "execution_count": 14,
     "metadata": {},
     "output_type": "execute_result"
    }
   ],
   "source": [
    "df.country.fillna('No Country', inplace=True)\n",
    "df.country"
   ]
  },
  {
   "cell_type": "markdown",
   "id": "6ae54549",
   "metadata": {},
   "source": [
    "*If at least one of columns:*\n",
    "* *date_added*\n",
    "* *rating*\n",
    "* *duration*\n",
    "\n",
    "*has missing value, we drop the row*"
   ]
  },
  {
   "cell_type": "code",
   "execution_count": 15,
   "id": "30b29e35",
   "metadata": {},
   "outputs": [],
   "source": [
    "df.dropna(subset=[\"date_added\", \"rating\", \"duration\"], inplace=True)"
   ]
  },
  {
   "cell_type": "code",
   "execution_count": 16,
   "id": "ffbbcd0e",
   "metadata": {},
   "outputs": [
    {
     "data": {
      "text/plain": [
       "show_id         False\n",
       "type            False\n",
       "title           False\n",
       "director        False\n",
       "cast            False\n",
       "country         False\n",
       "date_added      False\n",
       "release_year    False\n",
       "rating          False\n",
       "duration        False\n",
       "listed_in       False\n",
       "description     False\n",
       "dtype: bool"
      ]
     },
     "execution_count": 16,
     "metadata": {},
     "output_type": "execute_result"
    }
   ],
   "source": [
    "df.isnull().any()"
   ]
  },
  {
   "cell_type": "code",
   "execution_count": 17,
   "id": "08d05fd4",
   "metadata": {},
   "outputs": [
    {
     "name": "stdout",
     "output_type": "stream",
     "text": [
      "Shape after changes: (8790, 12)\n"
     ]
    }
   ],
   "source": [
    "print(f'Shape after changes: {df.shape}')"
   ]
  },
  {
   "cell_type": "markdown",
   "id": "705b6e47",
   "metadata": {},
   "source": [
    "*Min e max of column release_year*"
   ]
  },
  {
   "cell_type": "code",
   "execution_count": 18,
   "id": "f71f5e0a",
   "metadata": {},
   "outputs": [
    {
     "data": {
      "text/plain": [
       "1925"
      ]
     },
     "execution_count": 18,
     "metadata": {},
     "output_type": "execute_result"
    }
   ],
   "source": [
    "df['release_year'].min()"
   ]
  },
  {
   "cell_type": "code",
   "execution_count": 19,
   "id": "5d4b68a2",
   "metadata": {},
   "outputs": [
    {
     "data": {
      "text/plain": [
       "2021"
      ]
     },
     "execution_count": 19,
     "metadata": {},
     "output_type": "execute_result"
    }
   ],
   "source": [
    "df['release_year'].max()"
   ]
  },
  {
   "cell_type": "markdown",
   "id": "edb018c5",
   "metadata": {},
   "source": [
    "*groupby method*"
   ]
  },
  {
   "cell_type": "code",
   "execution_count": 20,
   "id": "0943454f",
   "metadata": {},
   "outputs": [
    {
     "data": {
      "text/plain": [
       "<pandas.core.groupby.generic.DataFrameGroupBy object at 0x000001F114119950>"
      ]
     },
     "execution_count": 20,
     "metadata": {},
     "output_type": "execute_result"
    }
   ],
   "source": [
    "df.groupby('rating')"
   ]
  },
  {
   "cell_type": "code",
   "execution_count": 21,
   "id": "dfe4f220",
   "metadata": {},
   "outputs": [
    {
     "data": {
      "text/html": [
       "<div>\n",
       "<style scoped>\n",
       "    .dataframe tbody tr th:only-of-type {\n",
       "        vertical-align: middle;\n",
       "    }\n",
       "\n",
       "    .dataframe tbody tr th {\n",
       "        vertical-align: top;\n",
       "    }\n",
       "\n",
       "    .dataframe thead th {\n",
       "        text-align: right;\n",
       "    }\n",
       "</style>\n",
       "<table border=\"1\" class=\"dataframe\">\n",
       "  <thead>\n",
       "    <tr style=\"text-align: right;\">\n",
       "      <th></th>\n",
       "      <th>show_id</th>\n",
       "      <th>type</th>\n",
       "      <th>title</th>\n",
       "      <th>director</th>\n",
       "      <th>cast</th>\n",
       "      <th>country</th>\n",
       "      <th>date_added</th>\n",
       "      <th>release_year</th>\n",
       "      <th>rating</th>\n",
       "      <th>duration</th>\n",
       "      <th>listed_in</th>\n",
       "      <th>description</th>\n",
       "    </tr>\n",
       "  </thead>\n",
       "  <tbody>\n",
       "    <tr>\n",
       "      <th>0</th>\n",
       "      <td>s1</td>\n",
       "      <td>Movie</td>\n",
       "      <td>Dick Johnson Is Dead</td>\n",
       "      <td>Kirsten Johnson</td>\n",
       "      <td>No Cast</td>\n",
       "      <td>United States</td>\n",
       "      <td>September 25, 2021</td>\n",
       "      <td>2020</td>\n",
       "      <td>PG-13</td>\n",
       "      <td>90 min</td>\n",
       "      <td>Documentaries</td>\n",
       "      <td>As her father nears the end of his life, filmm...</td>\n",
       "    </tr>\n",
       "    <tr>\n",
       "      <th>9</th>\n",
       "      <td>s10</td>\n",
       "      <td>Movie</td>\n",
       "      <td>The Starling</td>\n",
       "      <td>Theodore Melfi</td>\n",
       "      <td>Melissa McCarthy, Chris O'Dowd, Kevin Kline, T...</td>\n",
       "      <td>United States</td>\n",
       "      <td>September 24, 2021</td>\n",
       "      <td>2021</td>\n",
       "      <td>PG-13</td>\n",
       "      <td>104 min</td>\n",
       "      <td>Comedies, Dramas</td>\n",
       "      <td>A woman adjusting to life after a loss contend...</td>\n",
       "    </tr>\n",
       "    <tr>\n",
       "      <th>27</th>\n",
       "      <td>s28</td>\n",
       "      <td>Movie</td>\n",
       "      <td>Grown Ups</td>\n",
       "      <td>Dennis Dugan</td>\n",
       "      <td>Adam Sandler, Kevin James, Chris Rock, David S...</td>\n",
       "      <td>United States</td>\n",
       "      <td>September 20, 2021</td>\n",
       "      <td>2010</td>\n",
       "      <td>PG-13</td>\n",
       "      <td>103 min</td>\n",
       "      <td>Comedies</td>\n",
       "      <td>Mourning the loss of their beloved junior high...</td>\n",
       "    </tr>\n",
       "    <tr>\n",
       "      <th>28</th>\n",
       "      <td>s29</td>\n",
       "      <td>Movie</td>\n",
       "      <td>Dark Skies</td>\n",
       "      <td>Scott Stewart</td>\n",
       "      <td>Keri Russell, Josh Hamilton, J.K. Simmons, Dak...</td>\n",
       "      <td>United States</td>\n",
       "      <td>September 19, 2021</td>\n",
       "      <td>2013</td>\n",
       "      <td>PG-13</td>\n",
       "      <td>97 min</td>\n",
       "      <td>Horror Movies, Sci-Fi &amp; Fantasy</td>\n",
       "      <td>A family’s idyllic suburban life shatters when...</td>\n",
       "    </tr>\n",
       "    <tr>\n",
       "      <th>29</th>\n",
       "      <td>s30</td>\n",
       "      <td>Movie</td>\n",
       "      <td>Paranoia</td>\n",
       "      <td>Robert Luketic</td>\n",
       "      <td>Liam Hemsworth, Gary Oldman, Amber Heard, Harr...</td>\n",
       "      <td>United States, India, France</td>\n",
       "      <td>September 19, 2021</td>\n",
       "      <td>2013</td>\n",
       "      <td>PG-13</td>\n",
       "      <td>106 min</td>\n",
       "      <td>Thrillers</td>\n",
       "      <td>Blackmailed by his company's CEO, a low-level ...</td>\n",
       "    </tr>\n",
       "    <tr>\n",
       "      <th>...</th>\n",
       "      <td>...</td>\n",
       "      <td>...</td>\n",
       "      <td>...</td>\n",
       "      <td>...</td>\n",
       "      <td>...</td>\n",
       "      <td>...</td>\n",
       "      <td>...</td>\n",
       "      <td>...</td>\n",
       "      <td>...</td>\n",
       "      <td>...</td>\n",
       "      <td>...</td>\n",
       "      <td>...</td>\n",
       "    </tr>\n",
       "    <tr>\n",
       "      <th>8757</th>\n",
       "      <td>s8758</td>\n",
       "      <td>Movie</td>\n",
       "      <td>World Trade Center</td>\n",
       "      <td>Oliver Stone</td>\n",
       "      <td>Nicolas Cage, Michael Peña, Maggie Gyllenhaal,...</td>\n",
       "      <td>United States</td>\n",
       "      <td>November 20, 2019</td>\n",
       "      <td>2006</td>\n",
       "      <td>PG-13</td>\n",
       "      <td>129 min</td>\n",
       "      <td>Action &amp; Adventure, Dramas</td>\n",
       "      <td>Working under treacherous conditions, an army ...</td>\n",
       "    </tr>\n",
       "    <tr>\n",
       "      <th>8764</th>\n",
       "      <td>s8765</td>\n",
       "      <td>Movie</td>\n",
       "      <td>Wyatt Earp</td>\n",
       "      <td>Lawrence Kasdan</td>\n",
       "      <td>Kevin Costner, Dennis Quaid, Gene Hackman, Dav...</td>\n",
       "      <td>United States</td>\n",
       "      <td>January 1, 2020</td>\n",
       "      <td>1994</td>\n",
       "      <td>PG-13</td>\n",
       "      <td>191 min</td>\n",
       "      <td>Action &amp; Adventure</td>\n",
       "      <td>Legendary lawman Wyatt Earp is continually at ...</td>\n",
       "    </tr>\n",
       "    <tr>\n",
       "      <th>8766</th>\n",
       "      <td>s8767</td>\n",
       "      <td>Movie</td>\n",
       "      <td>XXx</td>\n",
       "      <td>Rob Cohen</td>\n",
       "      <td>Vin Diesel, Asia Argento, Marton Csokas, Samue...</td>\n",
       "      <td>United States</td>\n",
       "      <td>January 1, 2019</td>\n",
       "      <td>2002</td>\n",
       "      <td>PG-13</td>\n",
       "      <td>124 min</td>\n",
       "      <td>Action &amp; Adventure, Sports Movies</td>\n",
       "      <td>A notorious underground rush-seeker deemed unt...</td>\n",
       "    </tr>\n",
       "    <tr>\n",
       "      <th>8767</th>\n",
       "      <td>s8768</td>\n",
       "      <td>Movie</td>\n",
       "      <td>XXX: State of the Union</td>\n",
       "      <td>Lee Tamahori</td>\n",
       "      <td>Ice Cube, Samuel L. Jackson, Willem Dafoe, Sco...</td>\n",
       "      <td>United States</td>\n",
       "      <td>January 1, 2019</td>\n",
       "      <td>2005</td>\n",
       "      <td>PG-13</td>\n",
       "      <td>101 min</td>\n",
       "      <td>Action &amp; Adventure</td>\n",
       "      <td>In this action-packed follow-up to XXX, U.S. i...</td>\n",
       "    </tr>\n",
       "    <tr>\n",
       "      <th>8782</th>\n",
       "      <td>s8783</td>\n",
       "      <td>Movie</td>\n",
       "      <td>Yoga Hosers</td>\n",
       "      <td>Kevin Smith</td>\n",
       "      <td>Harley Quinn Smith, Lily-Rose Depp, Johnny Dep...</td>\n",
       "      <td>United States</td>\n",
       "      <td>December 2, 2016</td>\n",
       "      <td>2016</td>\n",
       "      <td>PG-13</td>\n",
       "      <td>88 min</td>\n",
       "      <td>Comedies, Horror Movies, Independent Movies</td>\n",
       "      <td>With an all-important high school party at sta...</td>\n",
       "    </tr>\n",
       "  </tbody>\n",
       "</table>\n",
       "<p>490 rows × 12 columns</p>\n",
       "</div>"
      ],
      "text/plain": [
       "     show_id   type                    title         director  \\\n",
       "0         s1  Movie     Dick Johnson Is Dead  Kirsten Johnson   \n",
       "9        s10  Movie             The Starling   Theodore Melfi   \n",
       "27       s28  Movie                Grown Ups     Dennis Dugan   \n",
       "28       s29  Movie               Dark Skies    Scott Stewart   \n",
       "29       s30  Movie                 Paranoia   Robert Luketic   \n",
       "...      ...    ...                      ...              ...   \n",
       "8757   s8758  Movie       World Trade Center     Oliver Stone   \n",
       "8764   s8765  Movie               Wyatt Earp  Lawrence Kasdan   \n",
       "8766   s8767  Movie                      XXx        Rob Cohen   \n",
       "8767   s8768  Movie  XXX: State of the Union     Lee Tamahori   \n",
       "8782   s8783  Movie              Yoga Hosers      Kevin Smith   \n",
       "\n",
       "                                                   cast  \\\n",
       "0                                               No Cast   \n",
       "9     Melissa McCarthy, Chris O'Dowd, Kevin Kline, T...   \n",
       "27    Adam Sandler, Kevin James, Chris Rock, David S...   \n",
       "28    Keri Russell, Josh Hamilton, J.K. Simmons, Dak...   \n",
       "29    Liam Hemsworth, Gary Oldman, Amber Heard, Harr...   \n",
       "...                                                 ...   \n",
       "8757  Nicolas Cage, Michael Peña, Maggie Gyllenhaal,...   \n",
       "8764  Kevin Costner, Dennis Quaid, Gene Hackman, Dav...   \n",
       "8766  Vin Diesel, Asia Argento, Marton Csokas, Samue...   \n",
       "8767  Ice Cube, Samuel L. Jackson, Willem Dafoe, Sco...   \n",
       "8782  Harley Quinn Smith, Lily-Rose Depp, Johnny Dep...   \n",
       "\n",
       "                           country          date_added  release_year rating  \\\n",
       "0                    United States  September 25, 2021          2020  PG-13   \n",
       "9                    United States  September 24, 2021          2021  PG-13   \n",
       "27                   United States  September 20, 2021          2010  PG-13   \n",
       "28                   United States  September 19, 2021          2013  PG-13   \n",
       "29    United States, India, France  September 19, 2021          2013  PG-13   \n",
       "...                            ...                 ...           ...    ...   \n",
       "8757                 United States   November 20, 2019          2006  PG-13   \n",
       "8764                 United States     January 1, 2020          1994  PG-13   \n",
       "8766                 United States     January 1, 2019          2002  PG-13   \n",
       "8767                 United States     January 1, 2019          2005  PG-13   \n",
       "8782                 United States    December 2, 2016          2016  PG-13   \n",
       "\n",
       "     duration                                    listed_in  \\\n",
       "0      90 min                                Documentaries   \n",
       "9     104 min                             Comedies, Dramas   \n",
       "27    103 min                                     Comedies   \n",
       "28     97 min              Horror Movies, Sci-Fi & Fantasy   \n",
       "29    106 min                                    Thrillers   \n",
       "...       ...                                          ...   \n",
       "8757  129 min                   Action & Adventure, Dramas   \n",
       "8764  191 min                           Action & Adventure   \n",
       "8766  124 min            Action & Adventure, Sports Movies   \n",
       "8767  101 min                           Action & Adventure   \n",
       "8782   88 min  Comedies, Horror Movies, Independent Movies   \n",
       "\n",
       "                                            description  \n",
       "0     As her father nears the end of his life, filmm...  \n",
       "9     A woman adjusting to life after a loss contend...  \n",
       "27    Mourning the loss of their beloved junior high...  \n",
       "28    A family’s idyllic suburban life shatters when...  \n",
       "29    Blackmailed by his company's CEO, a low-level ...  \n",
       "...                                                 ...  \n",
       "8757  Working under treacherous conditions, an army ...  \n",
       "8764  Legendary lawman Wyatt Earp is continually at ...  \n",
       "8766  A notorious underground rush-seeker deemed unt...  \n",
       "8767  In this action-packed follow-up to XXX, U.S. i...  \n",
       "8782  With an all-important high school party at sta...  \n",
       "\n",
       "[490 rows x 12 columns]"
      ]
     },
     "execution_count": 21,
     "metadata": {},
     "output_type": "execute_result"
    }
   ],
   "source": [
    "df.groupby('rating').get_group(\"PG-13\")"
   ]
  },
  {
   "cell_type": "code",
   "execution_count": 22,
   "id": "ea8dcb51",
   "metadata": {},
   "outputs": [
    {
     "data": {
      "text/html": [
       "<div>\n",
       "<style scoped>\n",
       "    .dataframe tbody tr th:only-of-type {\n",
       "        vertical-align: middle;\n",
       "    }\n",
       "\n",
       "    .dataframe tbody tr th {\n",
       "        vertical-align: top;\n",
       "    }\n",
       "\n",
       "    .dataframe thead th {\n",
       "        text-align: right;\n",
       "    }\n",
       "</style>\n",
       "<table border=\"1\" class=\"dataframe\">\n",
       "  <thead>\n",
       "    <tr style=\"text-align: right;\">\n",
       "      <th></th>\n",
       "      <th>show_id</th>\n",
       "      <th>type</th>\n",
       "      <th>title</th>\n",
       "      <th>director</th>\n",
       "      <th>cast</th>\n",
       "      <th>country</th>\n",
       "      <th>date_added</th>\n",
       "      <th>release_year</th>\n",
       "      <th>rating</th>\n",
       "      <th>duration</th>\n",
       "      <th>listed_in</th>\n",
       "      <th>description</th>\n",
       "    </tr>\n",
       "  </thead>\n",
       "  <tbody>\n",
       "    <tr>\n",
       "      <th>9</th>\n",
       "      <td>s10</td>\n",
       "      <td>Movie</td>\n",
       "      <td>The Starling</td>\n",
       "      <td>Theodore Melfi</td>\n",
       "      <td>Melissa McCarthy, Chris O'Dowd, Kevin Kline, T...</td>\n",
       "      <td>United States</td>\n",
       "      <td>September 24, 2021</td>\n",
       "      <td>2021</td>\n",
       "      <td>PG-13</td>\n",
       "      <td>104 min</td>\n",
       "      <td>Comedies, Dramas</td>\n",
       "      <td>A woman adjusting to life after a loss contend...</td>\n",
       "    </tr>\n",
       "    <tr>\n",
       "      <th>88</th>\n",
       "      <td>s89</td>\n",
       "      <td>Movie</td>\n",
       "      <td>Blood Brothers: Malcolm X &amp; Muhammad Ali</td>\n",
       "      <td>Marcus Clarke</td>\n",
       "      <td>Malcolm X, Muhammad Ali</td>\n",
       "      <td>No Country</td>\n",
       "      <td>September 9, 2021</td>\n",
       "      <td>2021</td>\n",
       "      <td>PG-13</td>\n",
       "      <td>96 min</td>\n",
       "      <td>Documentaries, Sports Movies</td>\n",
       "      <td>From a chance meeting to a tragic fallout, Mal...</td>\n",
       "    </tr>\n",
       "    <tr>\n",
       "      <th>560</th>\n",
       "      <td>s561</td>\n",
       "      <td>Movie</td>\n",
       "      <td>Audible</td>\n",
       "      <td>Matt Ogens</td>\n",
       "      <td>No Cast</td>\n",
       "      <td>No Country</td>\n",
       "      <td>July 1, 2021</td>\n",
       "      <td>2021</td>\n",
       "      <td>PG-13</td>\n",
       "      <td>39 min</td>\n",
       "      <td>Documentaries, Sports Movies</td>\n",
       "      <td>Shaken by a friend's suicide, a Deaf high scho...</td>\n",
       "    </tr>\n",
       "    <tr>\n",
       "      <th>1370</th>\n",
       "      <td>s1371</td>\n",
       "      <td>Movie</td>\n",
       "      <td>The Dig</td>\n",
       "      <td>Simon Stone</td>\n",
       "      <td>Carey Mulligan, Ralph Fiennes, Lily James, Joh...</td>\n",
       "      <td>United Kingdom</td>\n",
       "      <td>January 29, 2021</td>\n",
       "      <td>2021</td>\n",
       "      <td>PG-13</td>\n",
       "      <td>113 min</td>\n",
       "      <td>Dramas, International Movies</td>\n",
       "      <td>On the eve of World War II, a British widow hi...</td>\n",
       "    </tr>\n",
       "    <tr>\n",
       "      <th>1088</th>\n",
       "      <td>s1089</td>\n",
       "      <td>Movie</td>\n",
       "      <td>Thunder Force</td>\n",
       "      <td>Ben Falcone</td>\n",
       "      <td>Melissa McCarthy, Octavia Spencer, Jason Batem...</td>\n",
       "      <td>United States</td>\n",
       "      <td>April 9, 2021</td>\n",
       "      <td>2021</td>\n",
       "      <td>PG-13</td>\n",
       "      <td>107 min</td>\n",
       "      <td>Action &amp; Adventure, Comedies</td>\n",
       "      <td>Two childhood best friends reunite as an unlik...</td>\n",
       "    </tr>\n",
       "    <tr>\n",
       "      <th>...</th>\n",
       "      <td>...</td>\n",
       "      <td>...</td>\n",
       "      <td>...</td>\n",
       "      <td>...</td>\n",
       "      <td>...</td>\n",
       "      <td>...</td>\n",
       "      <td>...</td>\n",
       "      <td>...</td>\n",
       "      <td>...</td>\n",
       "      <td>...</td>\n",
       "      <td>...</td>\n",
       "      <td>...</td>\n",
       "    </tr>\n",
       "    <tr>\n",
       "      <th>7844</th>\n",
       "      <td>s7845</td>\n",
       "      <td>Movie</td>\n",
       "      <td>Red Dawn</td>\n",
       "      <td>John Milius</td>\n",
       "      <td>Patrick Swayze, C. Thomas Howell, Lea Thompson...</td>\n",
       "      <td>United States</td>\n",
       "      <td>December 31, 2019</td>\n",
       "      <td>1984</td>\n",
       "      <td>PG-13</td>\n",
       "      <td>114 min</td>\n",
       "      <td>Action &amp; Adventure, Cult Movies</td>\n",
       "      <td>A group of teenagers witnesses Soviet and Cuba...</td>\n",
       "    </tr>\n",
       "    <tr>\n",
       "      <th>4861</th>\n",
       "      <td>s4862</td>\n",
       "      <td>Movie</td>\n",
       "      <td>Lupin the 3rd: The Castle of Cagliostro: Speci...</td>\n",
       "      <td>Hayao Miyazaki</td>\n",
       "      <td>Yasuo Yamada, Kiyoshi Kobayashi, Eiko Masuyama...</td>\n",
       "      <td>Japan</td>\n",
       "      <td>May 15, 2018</td>\n",
       "      <td>1979</td>\n",
       "      <td>PG-13</td>\n",
       "      <td>100 min</td>\n",
       "      <td>Action &amp; Adventure, Anime Features, Classic Mo...</td>\n",
       "      <td>Lupin, his sidekick, Jigen, and the samurai wa...</td>\n",
       "    </tr>\n",
       "    <tr>\n",
       "      <th>7659</th>\n",
       "      <td>s7660</td>\n",
       "      <td>Movie</td>\n",
       "      <td>Once Upon a Time in the West</td>\n",
       "      <td>Sergio Leone</td>\n",
       "      <td>Henry Fonda, Charles Bronson, Claudia Cardinal...</td>\n",
       "      <td>Italy, United States</td>\n",
       "      <td>November 20, 2019</td>\n",
       "      <td>1968</td>\n",
       "      <td>PG-13</td>\n",
       "      <td>166 min</td>\n",
       "      <td>Action &amp; Adventure, Classic Movies, Internatio...</td>\n",
       "      <td>In this epic spaghetti Western, a flinty gunsl...</td>\n",
       "    </tr>\n",
       "    <tr>\n",
       "      <th>6619</th>\n",
       "      <td>s6620</td>\n",
       "      <td>Movie</td>\n",
       "      <td>Doctor Zhivago</td>\n",
       "      <td>David Lean</td>\n",
       "      <td>Omar Sharif, Julie Christie, Geraldine Chaplin...</td>\n",
       "      <td>United States, Italy, United Kingdom, Liechten...</td>\n",
       "      <td>November 1, 2019</td>\n",
       "      <td>1965</td>\n",
       "      <td>PG-13</td>\n",
       "      <td>200 min</td>\n",
       "      <td>Classic Movies, Dramas, Romantic Movies</td>\n",
       "      <td>A young physician and his beautiful mistress g...</td>\n",
       "    </tr>\n",
       "    <tr>\n",
       "      <th>7839</th>\n",
       "      <td>s7840</td>\n",
       "      <td>Movie</td>\n",
       "      <td>Rebel Without a Cause</td>\n",
       "      <td>Nicholas Ray</td>\n",
       "      <td>James Dean, Natalie Wood, Sal Mineo, Jim Backu...</td>\n",
       "      <td>United States</td>\n",
       "      <td>November 1, 2019</td>\n",
       "      <td>1955</td>\n",
       "      <td>PG-13</td>\n",
       "      <td>111 min</td>\n",
       "      <td>Classic Movies, Dramas</td>\n",
       "      <td>When Jim Stark arrives in a new town with his ...</td>\n",
       "    </tr>\n",
       "  </tbody>\n",
       "</table>\n",
       "<p>490 rows × 12 columns</p>\n",
       "</div>"
      ],
      "text/plain": [
       "     show_id   type                                              title  \\\n",
       "9        s10  Movie                                       The Starling   \n",
       "88       s89  Movie           Blood Brothers: Malcolm X & Muhammad Ali   \n",
       "560     s561  Movie                                            Audible   \n",
       "1370   s1371  Movie                                            The Dig   \n",
       "1088   s1089  Movie                                      Thunder Force   \n",
       "...      ...    ...                                                ...   \n",
       "7844   s7845  Movie                                           Red Dawn   \n",
       "4861   s4862  Movie  Lupin the 3rd: The Castle of Cagliostro: Speci...   \n",
       "7659   s7660  Movie                       Once Upon a Time in the West   \n",
       "6619   s6620  Movie                                     Doctor Zhivago   \n",
       "7839   s7840  Movie                              Rebel Without a Cause   \n",
       "\n",
       "            director                                               cast  \\\n",
       "9     Theodore Melfi  Melissa McCarthy, Chris O'Dowd, Kevin Kline, T...   \n",
       "88     Marcus Clarke                            Malcolm X, Muhammad Ali   \n",
       "560       Matt Ogens                                            No Cast   \n",
       "1370     Simon Stone  Carey Mulligan, Ralph Fiennes, Lily James, Joh...   \n",
       "1088     Ben Falcone  Melissa McCarthy, Octavia Spencer, Jason Batem...   \n",
       "...              ...                                                ...   \n",
       "7844     John Milius  Patrick Swayze, C. Thomas Howell, Lea Thompson...   \n",
       "4861  Hayao Miyazaki  Yasuo Yamada, Kiyoshi Kobayashi, Eiko Masuyama...   \n",
       "7659    Sergio Leone  Henry Fonda, Charles Bronson, Claudia Cardinal...   \n",
       "6619      David Lean  Omar Sharif, Julie Christie, Geraldine Chaplin...   \n",
       "7839    Nicholas Ray  James Dean, Natalie Wood, Sal Mineo, Jim Backu...   \n",
       "\n",
       "                                                country          date_added  \\\n",
       "9                                         United States  September 24, 2021   \n",
       "88                                           No Country   September 9, 2021   \n",
       "560                                          No Country        July 1, 2021   \n",
       "1370                                     United Kingdom    January 29, 2021   \n",
       "1088                                      United States       April 9, 2021   \n",
       "...                                                 ...                 ...   \n",
       "7844                                      United States   December 31, 2019   \n",
       "4861                                              Japan        May 15, 2018   \n",
       "7659                               Italy, United States   November 20, 2019   \n",
       "6619  United States, Italy, United Kingdom, Liechten...    November 1, 2019   \n",
       "7839                                      United States    November 1, 2019   \n",
       "\n",
       "      release_year rating duration  \\\n",
       "9             2021  PG-13  104 min   \n",
       "88            2021  PG-13   96 min   \n",
       "560           2021  PG-13   39 min   \n",
       "1370          2021  PG-13  113 min   \n",
       "1088          2021  PG-13  107 min   \n",
       "...            ...    ...      ...   \n",
       "7844          1984  PG-13  114 min   \n",
       "4861          1979  PG-13  100 min   \n",
       "7659          1968  PG-13  166 min   \n",
       "6619          1965  PG-13  200 min   \n",
       "7839          1955  PG-13  111 min   \n",
       "\n",
       "                                              listed_in  \\\n",
       "9                                      Comedies, Dramas   \n",
       "88                         Documentaries, Sports Movies   \n",
       "560                        Documentaries, Sports Movies   \n",
       "1370                       Dramas, International Movies   \n",
       "1088                       Action & Adventure, Comedies   \n",
       "...                                                 ...   \n",
       "7844                    Action & Adventure, Cult Movies   \n",
       "4861  Action & Adventure, Anime Features, Classic Mo...   \n",
       "7659  Action & Adventure, Classic Movies, Internatio...   \n",
       "6619            Classic Movies, Dramas, Romantic Movies   \n",
       "7839                             Classic Movies, Dramas   \n",
       "\n",
       "                                            description  \n",
       "9     A woman adjusting to life after a loss contend...  \n",
       "88    From a chance meeting to a tragic fallout, Mal...  \n",
       "560   Shaken by a friend's suicide, a Deaf high scho...  \n",
       "1370  On the eve of World War II, a British widow hi...  \n",
       "1088  Two childhood best friends reunite as an unlik...  \n",
       "...                                                 ...  \n",
       "7844  A group of teenagers witnesses Soviet and Cuba...  \n",
       "4861  Lupin, his sidekick, Jigen, and the samurai wa...  \n",
       "7659  In this epic spaghetti Western, a flinty gunsl...  \n",
       "6619  A young physician and his beautiful mistress g...  \n",
       "7839  When Jim Stark arrives in a new town with his ...  \n",
       "\n",
       "[490 rows x 12 columns]"
      ]
     },
     "execution_count": 22,
     "metadata": {},
     "output_type": "execute_result"
    }
   ],
   "source": [
    "df.groupby(\"rating\").get_group('PG-13').sort_values(by=['release_year'], ascending=False)"
   ]
  },
  {
   "cell_type": "markdown",
   "id": "d630e879",
   "metadata": {},
   "source": [
    "*Movies VS TV Shows*"
   ]
  },
  {
   "cell_type": "code",
   "execution_count": 23,
   "id": "46dfd3e2",
   "metadata": {},
   "outputs": [
    {
     "data": {
      "text/plain": [
       "Movie      6126\n",
       "TV Show    2664\n",
       "Name: type, dtype: int64"
      ]
     },
     "execution_count": 23,
     "metadata": {},
     "output_type": "execute_result"
    }
   ],
   "source": [
    "df.type.value_counts()"
   ]
  },
  {
   "cell_type": "code",
   "execution_count": 24,
   "id": "34e54f3c",
   "metadata": {},
   "outputs": [
    {
     "data": {
      "text/plain": [
       "Index(['Movie', 'TV Show'], dtype='object')"
      ]
     },
     "execution_count": 24,
     "metadata": {},
     "output_type": "execute_result"
    }
   ],
   "source": [
    "df.type.value_counts().index"
   ]
  },
  {
   "cell_type": "code",
   "execution_count": 25,
   "id": "7c94878e",
   "metadata": {},
   "outputs": [
    {
     "data": {
      "image/png": "[encoded data removed]",
      "text/plain": [
       "<Figure size 640x480 with 1 Axes>"
      ]
     },
     "metadata": {},
     "output_type": "display_data"
    }
   ],
   "source": [
    "#plt.figure(figsize=(width, height)) in inches\n",
    "\n",
    "#autopct: If not None, is a string or function used to label the wedges with their numeric value. \n",
    "#The label will be placed inside the wedge. If it is a format string, the label will be fmt % pct. \n",
    "#If it is a function, it will be called.\n",
    "\n",
    "#explode: If not None, is a len(x) array which specifies the fraction of the radius with which to offset each wedge.\n",
    "\n",
    "plt.figure()\n",
    "plt.title(\"Movies VS TV Shows\")\n",
    "plot = plt.pie(df.type.value_counts(), \n",
    "              explode=(0.025,0.025), \n",
    "              labels=df.type.value_counts().index, \n",
    "              autopct=\"%1.2f%%\", \n",
    "              colors=[\"coral\",\"darkturquoise\"])\n",
    "plt.show()"
   ]
  },
  {
   "cell_type": "markdown",
   "id": "3f1b5266",
   "metadata": {},
   "source": [
    "**TOP 10 genres**"
   ]
  },
  {
   "cell_type": "code",
   "execution_count": 26,
   "id": "31ecda56",
   "metadata": {},
   "outputs": [
    {
     "data": {
      "text/plain": [
       "0                                        Documentaries\n",
       "1      International TV Shows, TV Dramas, TV Mysteries\n",
       "2    Crime TV Shows, International TV Shows, TV Act...\n",
       "3                               Docuseries, Reality TV\n",
       "4    International TV Shows, Romantic TV Shows, TV ...\n",
       "Name: listed_in, dtype: object"
      ]
     },
     "execution_count": 26,
     "metadata": {},
     "output_type": "execute_result"
    }
   ],
   "source": [
    "df.listed_in.head()"
   ]
  },
  {
   "cell_type": "code",
   "execution_count": 27,
   "id": "bc0a5b14",
   "metadata": {},
   "outputs": [
    {
     "data": {
      "text/html": [
       "<div>\n",
       "<style scoped>\n",
       "    .dataframe tbody tr th:only-of-type {\n",
       "        vertical-align: middle;\n",
       "    }\n",
       "\n",
       "    .dataframe tbody tr th {\n",
       "        vertical-align: top;\n",
       "    }\n",
       "\n",
       "    .dataframe thead th {\n",
       "        text-align: right;\n",
       "    }\n",
       "</style>\n",
       "<table border=\"1\" class=\"dataframe\">\n",
       "  <thead>\n",
       "    <tr style=\"text-align: right;\">\n",
       "      <th></th>\n",
       "      <th>0</th>\n",
       "      <th>1</th>\n",
       "      <th>2</th>\n",
       "    </tr>\n",
       "  </thead>\n",
       "  <tbody>\n",
       "    <tr>\n",
       "      <th>0</th>\n",
       "      <td>Documentaries</td>\n",
       "      <td>None</td>\n",
       "      <td>None</td>\n",
       "    </tr>\n",
       "    <tr>\n",
       "      <th>1</th>\n",
       "      <td>International TV Shows</td>\n",
       "      <td>TV Dramas</td>\n",
       "      <td>TV Mysteries</td>\n",
       "    </tr>\n",
       "    <tr>\n",
       "      <th>2</th>\n",
       "      <td>Crime TV Shows</td>\n",
       "      <td>International TV Shows</td>\n",
       "      <td>TV Action &amp; Adventure</td>\n",
       "    </tr>\n",
       "    <tr>\n",
       "      <th>3</th>\n",
       "      <td>Docuseries</td>\n",
       "      <td>Reality TV</td>\n",
       "      <td>None</td>\n",
       "    </tr>\n",
       "    <tr>\n",
       "      <th>4</th>\n",
       "      <td>International TV Shows</td>\n",
       "      <td>Romantic TV Shows</td>\n",
       "      <td>TV Comedies</td>\n",
       "    </tr>\n",
       "    <tr>\n",
       "      <th>...</th>\n",
       "      <td>...</td>\n",
       "      <td>...</td>\n",
       "      <td>...</td>\n",
       "    </tr>\n",
       "    <tr>\n",
       "      <th>8802</th>\n",
       "      <td>Cult Movies</td>\n",
       "      <td>Dramas</td>\n",
       "      <td>Thrillers</td>\n",
       "    </tr>\n",
       "    <tr>\n",
       "      <th>8803</th>\n",
       "      <td>Kids' TV</td>\n",
       "      <td>Korean TV Shows</td>\n",
       "      <td>TV Comedies</td>\n",
       "    </tr>\n",
       "    <tr>\n",
       "      <th>8804</th>\n",
       "      <td>Comedies</td>\n",
       "      <td>Horror Movies</td>\n",
       "      <td>None</td>\n",
       "    </tr>\n",
       "    <tr>\n",
       "      <th>8805</th>\n",
       "      <td>Children &amp; Family Movies</td>\n",
       "      <td>Comedies</td>\n",
       "      <td>None</td>\n",
       "    </tr>\n",
       "    <tr>\n",
       "      <th>8806</th>\n",
       "      <td>Dramas</td>\n",
       "      <td>International Movies</td>\n",
       "      <td>Music &amp; Musicals</td>\n",
       "    </tr>\n",
       "  </tbody>\n",
       "</table>\n",
       "<p>8790 rows × 3 columns</p>\n",
       "</div>"
      ],
      "text/plain": [
       "                             0                       1                      2\n",
       "0                Documentaries                    None                   None\n",
       "1       International TV Shows               TV Dramas           TV Mysteries\n",
       "2               Crime TV Shows  International TV Shows  TV Action & Adventure\n",
       "3                   Docuseries              Reality TV                   None\n",
       "4       International TV Shows       Romantic TV Shows            TV Comedies\n",
       "...                        ...                     ...                    ...\n",
       "8802               Cult Movies                  Dramas              Thrillers\n",
       "8803                  Kids' TV         Korean TV Shows            TV Comedies\n",
       "8804                  Comedies           Horror Movies                   None\n",
       "8805  Children & Family Movies                Comedies                   None\n",
       "8806                    Dramas    International Movies       Music & Musicals\n",
       "\n",
       "[8790 rows x 3 columns]"
      ]
     },
     "execution_count": 27,
     "metadata": {},
     "output_type": "execute_result"
    }
   ],
   "source": [
    "genres = df.listed_in.str.split(', ', expand=True)\n",
    "genres"
   ]
  },
  {
   "cell_type": "code",
   "execution_count": 28,
   "id": "0ab12a8a",
   "metadata": {},
   "outputs": [
    {
     "data": {
      "text/plain": [
       "(8790, 3)"
      ]
     },
     "execution_count": 28,
     "metadata": {},
     "output_type": "execute_result"
    }
   ],
   "source": [
    "genres.shape"
   ]
  },
  {
   "cell_type": "code",
   "execution_count": 29,
   "id": "b0fac7a5",
   "metadata": {},
   "outputs": [],
   "source": [
    "genres = genres.stack()"
   ]
  },
  {
   "cell_type": "code",
   "execution_count": 30,
   "id": "4497a794",
   "metadata": {},
   "outputs": [
    {
     "data": {
      "image/png": "[encoded data removed]",
      "text/plain": [
       "<Figure size 640x480 with 1 Axes>"
      ]
     },
     "metadata": {},
     "output_type": "display_data"
    }
   ],
   "source": [
    "plot = sns.countplot(y = genres, order=genres.value_counts().index[:10])\n",
    "plt.title('Top 10 genres of Netflix')\n",
    "plt.xlabel('Number of occurrencese')\n",
    "plt.ylabel('Genre')\n",
    "plt.show()"
   ]
  },
  {
   "cell_type": "markdown",
   "id": "82f13b09",
   "metadata": {},
   "source": [
    "**TOP 10 actors by appearance**"
   ]
  },
  {
   "cell_type": "code",
   "execution_count": 31,
   "id": "f669e7e8",
   "metadata": {},
   "outputs": [
    {
     "data": {
      "text/plain": [
       "0                                              No Cast\n",
       "1    Ama Qamata, Khosi Ngema, Gail Mabalane, Thaban...\n",
       "2    Sami Bouajila, Tracy Gotoas, Samuel Jouy, Nabi...\n",
       "3                                              No Cast\n",
       "4    Mayur More, Jitendra Kumar, Ranjan Raj, Alam K...\n",
       "Name: cast, dtype: object"
      ]
     },
     "execution_count": 31,
     "metadata": {},
     "output_type": "execute_result"
    }
   ],
   "source": [
    "df.cast.head()"
   ]
  },
  {
   "cell_type": "code",
   "execution_count": 32,
   "id": "6f1761cd",
   "metadata": {},
   "outputs": [
    {
     "data": {
      "text/plain": [
       "1       Ama Qamata, Khosi Ngema, Gail Mabalane, Thaban...\n",
       "2       Sami Bouajila, Tracy Gotoas, Samuel Jouy, Nabi...\n",
       "4       Mayur More, Jitendra Kumar, Ranjan Raj, Alam K...\n",
       "5       Kate Siegel, Zach Gilford, Hamish Linklater, H...\n",
       "6       Vanessa Hudgens, Kimiko Glenn, James Marsden, ...\n",
       "                              ...                        \n",
       "8801    Ali Suliman, Saleh Bakri, Yasa, Ali Al-Jabri, ...\n",
       "8802    Mark Ruffalo, Jake Gyllenhaal, Robert Downey J...\n",
       "8804    Jesse Eisenberg, Woody Harrelson, Emma Stone, ...\n",
       "8805    Tim Allen, Courteney Cox, Chevy Chase, Kate Ma...\n",
       "8806    Vicky Kaushal, Sarah-Jane Dias, Raaghav Chanan...\n",
       "Name: cast, Length: 7965, dtype: object"
      ]
     },
     "execution_count": 32,
     "metadata": {},
     "output_type": "execute_result"
    }
   ],
   "source": [
    "df_cast = df[df['cast']!='No Cast']\n",
    "df_cast['cast']"
   ]
  },
  {
   "cell_type": "code",
   "execution_count": 33,
   "id": "66ab4dea",
   "metadata": {},
   "outputs": [
    {
     "data": {
      "text/html": [
       "<div>\n",
       "<style scoped>\n",
       "    .dataframe tbody tr th:only-of-type {\n",
       "        vertical-align: middle;\n",
       "    }\n",
       "\n",
       "    .dataframe tbody tr th {\n",
       "        vertical-align: top;\n",
       "    }\n",
       "\n",
       "    .dataframe thead th {\n",
       "        text-align: right;\n",
       "    }\n",
       "</style>\n",
       "<table border=\"1\" class=\"dataframe\">\n",
       "  <thead>\n",
       "    <tr style=\"text-align: right;\">\n",
       "      <th></th>\n",
       "      <th>0</th>\n",
       "      <th>1</th>\n",
       "      <th>2</th>\n",
       "      <th>3</th>\n",
       "      <th>4</th>\n",
       "      <th>5</th>\n",
       "      <th>6</th>\n",
       "      <th>7</th>\n",
       "      <th>8</th>\n",
       "      <th>9</th>\n",
       "      <th>...</th>\n",
       "      <th>40</th>\n",
       "      <th>41</th>\n",
       "      <th>42</th>\n",
       "      <th>43</th>\n",
       "      <th>44</th>\n",
       "      <th>45</th>\n",
       "      <th>46</th>\n",
       "      <th>47</th>\n",
       "      <th>48</th>\n",
       "      <th>49</th>\n",
       "    </tr>\n",
       "  </thead>\n",
       "  <tbody>\n",
       "    <tr>\n",
       "      <th>1</th>\n",
       "      <td>Ama Qamata</td>\n",
       "      <td>Khosi Ngema</td>\n",
       "      <td>Gail Mabalane</td>\n",
       "      <td>Thabang Molaba</td>\n",
       "      <td>Dillon Windvogel</td>\n",
       "      <td>Natasha Thahane</td>\n",
       "      <td>Arno Greeff</td>\n",
       "      <td>Xolile Tshabalala</td>\n",
       "      <td>Getmore Sithole</td>\n",
       "      <td>Cindy Mahlangu</td>\n",
       "      <td>...</td>\n",
       "      <td>None</td>\n",
       "      <td>None</td>\n",
       "      <td>None</td>\n",
       "      <td>None</td>\n",
       "      <td>None</td>\n",
       "      <td>None</td>\n",
       "      <td>None</td>\n",
       "      <td>None</td>\n",
       "      <td>None</td>\n",
       "      <td>None</td>\n",
       "    </tr>\n",
       "    <tr>\n",
       "      <th>2</th>\n",
       "      <td>Sami Bouajila</td>\n",
       "      <td>Tracy Gotoas</td>\n",
       "      <td>Samuel Jouy</td>\n",
       "      <td>Nabiha Akkari</td>\n",
       "      <td>Sofia Lesaffre</td>\n",
       "      <td>Salim Kechiouche</td>\n",
       "      <td>Noureddine Farihi</td>\n",
       "      <td>Geert Van Rampelberg</td>\n",
       "      <td>Bakary Diombera</td>\n",
       "      <td>None</td>\n",
       "      <td>...</td>\n",
       "      <td>None</td>\n",
       "      <td>None</td>\n",
       "      <td>None</td>\n",
       "      <td>None</td>\n",
       "      <td>None</td>\n",
       "      <td>None</td>\n",
       "      <td>None</td>\n",
       "      <td>None</td>\n",
       "      <td>None</td>\n",
       "      <td>None</td>\n",
       "    </tr>\n",
       "    <tr>\n",
       "      <th>4</th>\n",
       "      <td>Mayur More</td>\n",
       "      <td>Jitendra Kumar</td>\n",
       "      <td>Ranjan Raj</td>\n",
       "      <td>Alam Khan</td>\n",
       "      <td>Ahsaas Channa</td>\n",
       "      <td>Revathi Pillai</td>\n",
       "      <td>Urvi Singh</td>\n",
       "      <td>Arun Kumar</td>\n",
       "      <td>None</td>\n",
       "      <td>None</td>\n",
       "      <td>...</td>\n",
       "      <td>None</td>\n",
       "      <td>None</td>\n",
       "      <td>None</td>\n",
       "      <td>None</td>\n",
       "      <td>None</td>\n",
       "      <td>None</td>\n",
       "      <td>None</td>\n",
       "      <td>None</td>\n",
       "      <td>None</td>\n",
       "      <td>None</td>\n",
       "    </tr>\n",
       "    <tr>\n",
       "      <th>5</th>\n",
       "      <td>Kate Siegel</td>\n",
       "      <td>Zach Gilford</td>\n",
       "      <td>Hamish Linklater</td>\n",
       "      <td>Henry Thomas</td>\n",
       "      <td>Kristin Lehman</td>\n",
       "      <td>Samantha Sloyan</td>\n",
       "      <td>Igby Rigney</td>\n",
       "      <td>Rahul Kohli</td>\n",
       "      <td>Annarah Cymone</td>\n",
       "      <td>Annabeth Gish</td>\n",
       "      <td>...</td>\n",
       "      <td>None</td>\n",
       "      <td>None</td>\n",
       "      <td>None</td>\n",
       "      <td>None</td>\n",
       "      <td>None</td>\n",
       "      <td>None</td>\n",
       "      <td>None</td>\n",
       "      <td>None</td>\n",
       "      <td>None</td>\n",
       "      <td>None</td>\n",
       "    </tr>\n",
       "    <tr>\n",
       "      <th>6</th>\n",
       "      <td>Vanessa Hudgens</td>\n",
       "      <td>Kimiko Glenn</td>\n",
       "      <td>James Marsden</td>\n",
       "      <td>Sofia Carson</td>\n",
       "      <td>Liza Koshy</td>\n",
       "      <td>Ken Jeong</td>\n",
       "      <td>Elizabeth Perkins</td>\n",
       "      <td>Jane Krakowski</td>\n",
       "      <td>Michael McKean</td>\n",
       "      <td>Phil LaMarr</td>\n",
       "      <td>...</td>\n",
       "      <td>None</td>\n",
       "      <td>None</td>\n",
       "      <td>None</td>\n",
       "      <td>None</td>\n",
       "      <td>None</td>\n",
       "      <td>None</td>\n",
       "      <td>None</td>\n",
       "      <td>None</td>\n",
       "      <td>None</td>\n",
       "      <td>None</td>\n",
       "    </tr>\n",
       "    <tr>\n",
       "      <th>...</th>\n",
       "      <td>...</td>\n",
       "      <td>...</td>\n",
       "      <td>...</td>\n",
       "      <td>...</td>\n",
       "      <td>...</td>\n",
       "      <td>...</td>\n",
       "      <td>...</td>\n",
       "      <td>...</td>\n",
       "      <td>...</td>\n",
       "      <td>...</td>\n",
       "      <td>...</td>\n",
       "      <td>...</td>\n",
       "      <td>...</td>\n",
       "      <td>...</td>\n",
       "      <td>...</td>\n",
       "      <td>...</td>\n",
       "      <td>...</td>\n",
       "      <td>...</td>\n",
       "      <td>...</td>\n",
       "      <td>...</td>\n",
       "      <td>...</td>\n",
       "    </tr>\n",
       "    <tr>\n",
       "      <th>8801</th>\n",
       "      <td>Ali Suliman</td>\n",
       "      <td>Saleh Bakri</td>\n",
       "      <td>Yasa</td>\n",
       "      <td>Ali Al-Jabri</td>\n",
       "      <td>Mansoor Alfeeli</td>\n",
       "      <td>Ahd</td>\n",
       "      <td>None</td>\n",
       "      <td>None</td>\n",
       "      <td>None</td>\n",
       "      <td>None</td>\n",
       "      <td>...</td>\n",
       "      <td>None</td>\n",
       "      <td>None</td>\n",
       "      <td>None</td>\n",
       "      <td>None</td>\n",
       "      <td>None</td>\n",
       "      <td>None</td>\n",
       "      <td>None</td>\n",
       "      <td>None</td>\n",
       "      <td>None</td>\n",
       "      <td>None</td>\n",
       "    </tr>\n",
       "    <tr>\n",
       "      <th>8802</th>\n",
       "      <td>Mark Ruffalo</td>\n",
       "      <td>Jake Gyllenhaal</td>\n",
       "      <td>Robert Downey Jr.</td>\n",
       "      <td>Anthony Edwards</td>\n",
       "      <td>Brian Cox</td>\n",
       "      <td>Elias Koteas</td>\n",
       "      <td>Donal Logue</td>\n",
       "      <td>John Carroll Lynch</td>\n",
       "      <td>Dermot Mulroney</td>\n",
       "      <td>Chloë Sevigny</td>\n",
       "      <td>...</td>\n",
       "      <td>None</td>\n",
       "      <td>None</td>\n",
       "      <td>None</td>\n",
       "      <td>None</td>\n",
       "      <td>None</td>\n",
       "      <td>None</td>\n",
       "      <td>None</td>\n",
       "      <td>None</td>\n",
       "      <td>None</td>\n",
       "      <td>None</td>\n",
       "    </tr>\n",
       "    <tr>\n",
       "      <th>8804</th>\n",
       "      <td>Jesse Eisenberg</td>\n",
       "      <td>Woody Harrelson</td>\n",
       "      <td>Emma Stone</td>\n",
       "      <td>Abigail Breslin</td>\n",
       "      <td>Amber Heard</td>\n",
       "      <td>Bill Murray</td>\n",
       "      <td>Derek Graf</td>\n",
       "      <td>None</td>\n",
       "      <td>None</td>\n",
       "      <td>None</td>\n",
       "      <td>...</td>\n",
       "      <td>None</td>\n",
       "      <td>None</td>\n",
       "      <td>None</td>\n",
       "      <td>None</td>\n",
       "      <td>None</td>\n",
       "      <td>None</td>\n",
       "      <td>None</td>\n",
       "      <td>None</td>\n",
       "      <td>None</td>\n",
       "      <td>None</td>\n",
       "    </tr>\n",
       "    <tr>\n",
       "      <th>8805</th>\n",
       "      <td>Tim Allen</td>\n",
       "      <td>Courteney Cox</td>\n",
       "      <td>Chevy Chase</td>\n",
       "      <td>Kate Mara</td>\n",
       "      <td>Ryan Newman</td>\n",
       "      <td>Michael Cassidy</td>\n",
       "      <td>Spencer Breslin</td>\n",
       "      <td>Rip Torn</td>\n",
       "      <td>Kevin Zegers</td>\n",
       "      <td>None</td>\n",
       "      <td>...</td>\n",
       "      <td>None</td>\n",
       "      <td>None</td>\n",
       "      <td>None</td>\n",
       "      <td>None</td>\n",
       "      <td>None</td>\n",
       "      <td>None</td>\n",
       "      <td>None</td>\n",
       "      <td>None</td>\n",
       "      <td>None</td>\n",
       "      <td>None</td>\n",
       "    </tr>\n",
       "    <tr>\n",
       "      <th>8806</th>\n",
       "      <td>Vicky Kaushal</td>\n",
       "      <td>Sarah-Jane Dias</td>\n",
       "      <td>Raaghav Chanana</td>\n",
       "      <td>Manish Chaudhary</td>\n",
       "      <td>Meghna Malik</td>\n",
       "      <td>Malkeet Rauni</td>\n",
       "      <td>Anita Shabdish</td>\n",
       "      <td>Chittaranjan Tripathy</td>\n",
       "      <td>None</td>\n",
       "      <td>None</td>\n",
       "      <td>...</td>\n",
       "      <td>None</td>\n",
       "      <td>None</td>\n",
       "      <td>None</td>\n",
       "      <td>None</td>\n",
       "      <td>None</td>\n",
       "      <td>None</td>\n",
       "      <td>None</td>\n",
       "      <td>None</td>\n",
       "      <td>None</td>\n",
       "      <td>None</td>\n",
       "    </tr>\n",
       "  </tbody>\n",
       "</table>\n",
       "<p>7965 rows × 50 columns</p>\n",
       "</div>"
      ],
      "text/plain": [
       "                   0                1                  2                 3   \\\n",
       "1          Ama Qamata      Khosi Ngema      Gail Mabalane    Thabang Molaba   \n",
       "2       Sami Bouajila     Tracy Gotoas        Samuel Jouy     Nabiha Akkari   \n",
       "4          Mayur More   Jitendra Kumar         Ranjan Raj         Alam Khan   \n",
       "5         Kate Siegel     Zach Gilford   Hamish Linklater      Henry Thomas   \n",
       "6     Vanessa Hudgens     Kimiko Glenn      James Marsden      Sofia Carson   \n",
       "...               ...              ...                ...               ...   \n",
       "8801      Ali Suliman      Saleh Bakri               Yasa      Ali Al-Jabri   \n",
       "8802     Mark Ruffalo  Jake Gyllenhaal  Robert Downey Jr.   Anthony Edwards   \n",
       "8804  Jesse Eisenberg  Woody Harrelson         Emma Stone   Abigail Breslin   \n",
       "8805        Tim Allen    Courteney Cox        Chevy Chase         Kate Mara   \n",
       "8806    Vicky Kaushal  Sarah-Jane Dias    Raaghav Chanana  Manish Chaudhary   \n",
       "\n",
       "                    4                 5                  6   \\\n",
       "1     Dillon Windvogel   Natasha Thahane        Arno Greeff   \n",
       "2       Sofia Lesaffre  Salim Kechiouche  Noureddine Farihi   \n",
       "4        Ahsaas Channa    Revathi Pillai         Urvi Singh   \n",
       "5       Kristin Lehman   Samantha Sloyan        Igby Rigney   \n",
       "6           Liza Koshy         Ken Jeong  Elizabeth Perkins   \n",
       "...                ...               ...                ...   \n",
       "8801   Mansoor Alfeeli               Ahd               None   \n",
       "8802         Brian Cox      Elias Koteas        Donal Logue   \n",
       "8804       Amber Heard       Bill Murray         Derek Graf   \n",
       "8805       Ryan Newman   Michael Cassidy    Spencer Breslin   \n",
       "8806      Meghna Malik     Malkeet Rauni     Anita Shabdish   \n",
       "\n",
       "                         7                8               9   ...    40    41  \\\n",
       "1         Xolile Tshabalala  Getmore Sithole  Cindy Mahlangu  ...  None  None   \n",
       "2      Geert Van Rampelberg  Bakary Diombera            None  ...  None  None   \n",
       "4                Arun Kumar             None            None  ...  None  None   \n",
       "5               Rahul Kohli   Annarah Cymone   Annabeth Gish  ...  None  None   \n",
       "6            Jane Krakowski   Michael McKean     Phil LaMarr  ...  None  None   \n",
       "...                     ...              ...             ...  ...   ...   ...   \n",
       "8801                   None             None            None  ...  None  None   \n",
       "8802     John Carroll Lynch  Dermot Mulroney   Chloë Sevigny  ...  None  None   \n",
       "8804                   None             None            None  ...  None  None   \n",
       "8805               Rip Torn     Kevin Zegers            None  ...  None  None   \n",
       "8806  Chittaranjan Tripathy             None            None  ...  None  None   \n",
       "\n",
       "        42    43    44    45    46    47    48    49  \n",
       "1     None  None  None  None  None  None  None  None  \n",
       "2     None  None  None  None  None  None  None  None  \n",
       "4     None  None  None  None  None  None  None  None  \n",
       "5     None  None  None  None  None  None  None  None  \n",
       "6     None  None  None  None  None  None  None  None  \n",
       "...    ...   ...   ...   ...   ...   ...   ...   ...  \n",
       "8801  None  None  None  None  None  None  None  None  \n",
       "8802  None  None  None  None  None  None  None  None  \n",
       "8804  None  None  None  None  None  None  None  None  \n",
       "8805  None  None  None  None  None  None  None  None  \n",
       "8806  None  None  None  None  None  None  None  None  \n",
       "\n",
       "[7965 rows x 50 columns]"
      ]
     },
     "execution_count": 33,
     "metadata": {},
     "output_type": "execute_result"
    }
   ],
   "source": [
    "actors = df_cast['cast'].str.split(', ', expand=True)\n",
    "actors"
   ]
  },
  {
   "cell_type": "code",
   "execution_count": 34,
   "id": "1f860820",
   "metadata": {},
   "outputs": [
    {
     "data": {
      "text/plain": [
       "(7965, 50)"
      ]
     },
     "execution_count": 34,
     "metadata": {},
     "output_type": "execute_result"
    }
   ],
   "source": [
    "actors.shape"
   ]
  },
  {
   "cell_type": "code",
   "execution_count": 35,
   "id": "58bd0fe0",
   "metadata": {},
   "outputs": [],
   "source": [
    "actors = actors.stack()"
   ]
  },
  {
   "cell_type": "code",
   "execution_count": 38,
   "id": "a70a229f",
   "metadata": {},
   "outputs": [
    {
     "data": {
      "image/png": "[encoded data removed]",
      "text/plain": [
       "<Figure size 640x480 with 1 Axes>"
      ]
     },
     "metadata": {},
     "output_type": "display_data"
    }
   ],
   "source": [
    "plot = sns.countplot(y = actors, order=actors.value_counts().index[:10])\n",
    "plt.title('Top 10 actors by appearance of Netflix')\n",
    "plt.xlabel('Number of occurrencese')\n",
    "plt.ylabel('Actor')\n",
    "plt.show()"
   ]
  },
  {
   "cell_type": "markdown",
   "id": "60bc3d03",
   "metadata": {},
   "source": [
    "**Rating comparation**"
   ]
  },
  {
   "cell_type": "code",
   "execution_count": 40,
   "id": "3fb274ce",
   "metadata": {},
   "outputs": [
    {
     "data": {
      "text/plain": [
       "array(['PG-13', 'TV-MA', 'PG', 'TV-14', 'TV-PG', 'TV-Y', 'TV-Y7', 'R',\n",
       "       'TV-G', 'G', 'NC-17', 'NR', 'TV-Y7-FV', 'UR'], dtype=object)"
      ]
     },
     "execution_count": 40,
     "metadata": {},
     "output_type": "execute_result"
    }
   ],
   "source": [
    "# unique values in rating column\n",
    "df.rating.unique()"
   ]
  },
  {
   "cell_type": "code",
   "execution_count": 88,
   "id": "51cc6d43",
   "metadata": {
    "scrolled": false
   },
   "outputs": [
    {
     "data": {
      "image/png": "[encoded data removed]",
      "text/plain": [
       "<Figure size 700x700 with 1 Axes>"
      ]
     },
     "metadata": {},
     "output_type": "display_data"
    }
   ],
   "source": [
    "plt.figure(figsize=(7,7))\n",
    "plt.title(\"Rating comparation\")\n",
    "plot = plt.pie(df.rating.value_counts()[:5],\n",
    "              labels=df.rating.value_counts().index[:5], \n",
    "              autopct=\"%1.2f%%\",\n",
    "              startangle=90)\n",
    "plt.show()"
   ]
  },
  {
   "cell_type": "markdown",
   "id": "b6d784ce",
   "metadata": {},
   "source": [
    "**Occurrence count for columns**"
   ]
  },
  {
   "cell_type": "code",
   "execution_count": 93,
   "id": "9d784c21",
   "metadata": {},
   "outputs": [],
   "source": [
    "# dataframe\n",
    "# column_name: name of column\n",
    "# limit: number of items to display in order of counter\n",
    "\n",
    "def return_counter(dataframe, column_name, limit):\n",
    "    counter = Counter(dataframe[column_name].values)\n",
    "    most_common = counter.most_common(limit)\n",
    "    print(dict(most_common))"
   ]
  },
  {
   "cell_type": "code",
   "execution_count": 94,
   "id": "39fdac00",
   "metadata": {},
   "outputs": [
    {
     "name": "stdout",
     "output_type": "stream",
     "text": [
      "{'United States': 2809, 'India': 972, 'No Country': 829}\n"
     ]
    }
   ],
   "source": [
    "return_counter(dataframe=df, column_name=\"country\", limit=3)"
   ]
  },
  {
   "cell_type": "code",
   "execution_count": 95,
   "id": "d4025b85",
   "metadata": {},
   "outputs": [
    {
     "name": "stdout",
     "output_type": "stream",
     "text": [
      "{2018: 1146, 2017: 1030, 2019: 1030}\n"
     ]
    }
   ],
   "source": [
    "return_counter(dataframe=df, column_name=\"release_year\", limit=3)"
   ]
  },
  {
   "cell_type": "code",
   "execution_count": 96,
   "id": "0c71b319",
   "metadata": {},
   "outputs": [
    {
     "name": "stdout",
     "output_type": "stream",
     "text": [
      "{'No Director': 2621, 'Rajiv Chilaka': 19, 'Raúl Campos, Jan Suter': 18}\n"
     ]
    }
   ],
   "source": [
    "return_counter(dataframe=df, column_name=\"director\", limit=3)"
   ]
  },
  {
   "cell_type": "markdown",
   "id": "d1772029",
   "metadata": {},
   "source": [
    "**Movies directed by David Fincher**"
   ]
  },
  {
   "cell_type": "code",
   "execution_count": 99,
   "id": "993178f9",
   "metadata": {},
   "outputs": [
    {
     "name": "stdout",
     "output_type": "stream",
     "text": [
      "600                            The Game\n",
      "1595                               MANK\n",
      "7701                         Panic Room\n",
      "8320    The Girl with the Dragon Tattoo\n",
      "8511                 The Social Network\n",
      "8802                             Zodiac\n",
      "Name: title, dtype: object\n"
     ]
    }
   ],
   "source": [
    "print(df[df['director'] == \"David Fincher\"]['title'])"
   ]
  },
  {
   "cell_type": "markdown",
   "id": "90c11b60",
   "metadata": {},
   "source": [
    "**Duration statistics**"
   ]
  },
  {
   "cell_type": "code",
   "execution_count": 103,
   "id": "4e291e8a",
   "metadata": {},
   "outputs": [
    {
     "data": {
      "text/plain": [
       "show_id                                                        s1\n",
       "type                                                        Movie\n",
       "title                                        Dick Johnson Is Dead\n",
       "director                                          Kirsten Johnson\n",
       "cast                                                      No Cast\n",
       "country                                             United States\n",
       "date_added                                     September 25, 2021\n",
       "release_year                                                 2020\n",
       "rating                                                      PG-13\n",
       "duration                                                   90 min\n",
       "listed_in                                           Documentaries\n",
       "description     As her father nears the end of his life, filmm...\n",
       "Name: 0, dtype: object"
      ]
     },
     "execution_count": 103,
     "metadata": {},
     "output_type": "execute_result"
    }
   ],
   "source": [
    "df_movie = df[df['type'] == 'Movie']\n",
    "df_movie.iloc[0]"
   ]
  },
  {
   "cell_type": "code",
   "execution_count": 105,
   "id": "9e4d930a",
   "metadata": {},
   "outputs": [
    {
     "data": {
      "text/plain": [
       "0        90\n",
       "6        91\n",
       "7       125\n",
       "9       104\n",
       "12      127\n",
       "       ... \n",
       "8801     96\n",
       "8802    158\n",
       "8804     88\n",
       "8805     88\n",
       "8806    111\n",
       "Name: duration, Length: 6126, dtype: int32"
      ]
     },
     "execution_count": 105,
     "metadata": {},
     "output_type": "execute_result"
    }
   ],
   "source": [
    "# str value to number \n",
    "df_duration = df_movie['duration'].map(lambda x: x.rstrip('min')).astype(int)\n",
    "df_duration"
   ]
  },
  {
   "cell_type": "code",
   "execution_count": 110,
   "id": "7d59094e",
   "metadata": {},
   "outputs": [
    {
     "name": "stdout",
     "output_type": "stream",
     "text": [
      "min: 3\n",
      "max: 312\n",
      "mean: 99.58488410055502\n",
      "median: 98.0\n",
      "std: 28.283224595386848\n"
     ]
    }
   ],
   "source": [
    "print(f'min: {df_duration.min()}')\n",
    "print(f'max: {df_duration.max()}')\n",
    "print(f'mean: {df_duration.mean()}')\n",
    "print(f'median: {df_duration.median()}')\n",
    "print(f'std: {df_duration.std()}')"
   ]
  },
  {
   "cell_type": "markdown",
   "id": "1e3867e5",
   "metadata": {},
   "source": [
    "*Histogram*"
   ]
  },
  {
   "cell_type": "code",
   "execution_count": 118,
   "id": "28f33c5c",
   "metadata": {},
   "outputs": [
    {
     "data": {
      "text/plain": [
       "<AxesSubplot: >"
      ]
     },
     "execution_count": 118,
     "metadata": {},
     "output_type": "execute_result"
    },
    {
     "data": {
      "image/png": "[encoded data removed]",
      "text/plain": [
       "<Figure size 640x480 with 1 Axes>"
      ]
     },
     "metadata": {},
     "output_type": "display_data"
    }
   ],
   "source": [
    "df_duration.hist(bins=500)"
   ]
  }
 ],
 "metadata": {
  "kernelspec": {
   "display_name": "Python 3 (ipykernel)",
   "language": "python",
   "name": "python3"
  },
  "language_info": {
   "codemirror_mode": {
    "name": "ipython",
    "version": 3
   },
   "file_extension": ".py",
   "mimetype": "text/x-python",
   "name": "python",
   "nbconvert_exporter": "python",
   "pygments_lexer": "ipython3",
   "version": "3.11.1"
  }
 },
 "nbformat": 4,
 "nbformat_minor": 5
}
